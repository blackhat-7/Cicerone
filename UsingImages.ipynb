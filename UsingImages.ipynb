{
  "nbformat": 4,
  "nbformat_minor": 0,
  "metadata": {
    "accelerator": "GPU",
    "colab": {
      "name": "UsingImages.ipynb",
      "provenance": [],
      "collapsed_sections": [
        "VroYIpRDbJbG"
      ]
    },
    "kernelspec": {
      "display_name": "Python 3",
      "name": "python3"
    },
    "language_info": {
      "name": "python"
    }
  },
  "cells": [
    {
      "cell_type": "code",
      "metadata": {
        "id": "U-I_WtaK_t4L"
      },
      "source": [
        "# Data variables\n",
        "# n_classes = 96\n",
        "batch_size = 64\n",
        "image_size = (299,299)\n",
        "valid_size = 0.1\n",
        "test_size = 0.0"
      ],
      "execution_count": null,
      "outputs": []
    },
    {
      "cell_type": "markdown",
      "metadata": {
        "id": "f2cIh8YPa49D"
      },
      "source": [
        "# Data"
      ]
    },
    {
      "cell_type": "code",
      "metadata": {
        "colab": {
          "base_uri": "https://localhost:8080/"
        },
        "id": "EF2p8XEyL6A0",
        "outputId": "d8d9405c-b912-4469-e6bb-fdfa4e55294a"
      },
      "source": [
        "import os\n",
        "import torch\n",
        "import torchvision\n",
        "import tarfile\n",
        "import numpy as np\n",
        "import zipfile\n",
        "import torch\n",
        "import torch.nn as nn\n",
        "from torchvision.datasets.utils import download_url\n",
        "from torchvision.datasets import ImageFolder\n",
        "from sklearn.model_selection import train_test_split\n",
        "import matplotlib.pyplot as plt\n",
        "from torchvision import transforms\n",
        "import warnings\n",
        "warnings.filterwarnings(\"ignore\")\n",
        "device = torch.device(\"cuda:0\" if torch.cuda.is_available() else \"cpu\")\n",
        "np.random.seed(42)\n",
        "torch.manual_seed(42)"
      ],
      "execution_count": null,
      "outputs": [
        {
          "output_type": "execute_result",
          "data": {
            "text/plain": [
              "<torch._C.Generator at 0x7f88e94b0f30>"
            ]
          },
          "metadata": {
            "tags": []
          },
          "execution_count": 37
        }
      ]
    },
    {
      "cell_type": "code",
      "metadata": {
        "id": "bqmecUAYL8Dm"
      },
      "source": [
        "data_dir = '/content/drive/MyDrive/Cicerone/datasets/'\n",
        "image_dir = data_dir+'images/'\n",
        "\n",
        "# with zipfile.ZipFile(data_dir+'images.zip', 'r') as zip_ref:\n",
        "#     zip_ref.extractall(data_dir)"
      ],
      "execution_count": null,
      "outputs": []
    },
    {
      "cell_type": "code",
      "metadata": {
        "id": "EhsAcl9lXAf3"
      },
      "source": [
        "from glob import glob\n",
        "import cv2\n",
        "\n",
        "def cal_dir_stat(root):\n",
        "    cls_dirs = [d for d in os.listdir(root) if os.path.isdir(os.path.join(root, d))]\n",
        "    pixel_num = 0 # store all pixel number in the dataset\n",
        "    channel_sum = np.zeros(3)\n",
        "    channel_sum_squared = np.zeros(3)\n",
        "\n",
        "    for idx, d in enumerate(cls_dirs):\n",
        "        im_pths = glob(os.path.join(root, d, \"*.jpg\"))\n",
        "        print(im_pths[0])\n",
        "        class_count = 0\n",
        "        for path in im_pths:\n",
        "            class_count += 1\n",
        "            im = cv2.imread(path) # image in M*N*CHANNEL_NUM shape, channel in BGR order\n",
        "            im = im/255.0\n",
        "            pixel_num += (im.size/3)\n",
        "            channel_sum += np.sum(im, axis=(0, 1))\n",
        "            channel_sum_squared += np.sum(np.square(im), axis=(0, 1))\n",
        "        print(f'Class {idx} count: {class_count}')\n",
        "\n",
        "    bgr_mean = channel_sum / pixel_num\n",
        "    bgr_std = np.sqrt(channel_sum_squared / pixel_num - np.square(bgr_mean))\n",
        "    \n",
        "    # change the format from bgr to rgb\n",
        "    rgb_mean = list(bgr_mean)[::-1]\n",
        "    rgb_std = list(bgr_std)[::-1]\n",
        "    \n",
        "    return rgb_mean, rgb_std\n",
        "\n",
        "mean, std = cal_dir_stat(image_dir)\n",
        "mean, std"
      ],
      "execution_count": null,
      "outputs": []
    },
    {
      "cell_type": "code",
      "metadata": {
        "colab": {
          "base_uri": "https://localhost:8080/"
        },
        "id": "5fMCZ5jtMGLo",
        "outputId": "b8602c47-f195-4deb-9d8e-7c6eba013a7d"
      },
      "source": [
        "trfm = transforms.Compose([\n",
        "    transforms.Resize(image_size),\n",
        "    transforms.CenterCrop(size=image_size),\n",
        "    transforms.RandomHorizontalFlip(0.5),\n",
        "    transforms.RandomRotation(30),\n",
        "    transforms.ToTensor(),\n",
        "    transforms.Normalize([0.485, 0.456, 0.406], [0.229, 0.224, 0.225])\n",
        "])\n",
        "\n",
        "dataset = ImageFolder(image_dir, transform=trfm)\n",
        "n_classes = len(dataset.classes)\n",
        "len(dataset), n_classes"
      ],
      "execution_count": null,
      "outputs": [
        {
          "output_type": "execute_result",
          "data": {
            "text/plain": [
              "(2372, 25)"
            ]
          },
          "metadata": {
            "tags": []
          },
          "execution_count": 40
        }
      ]
    },
    {
      "cell_type": "code",
      "metadata": {
        "colab": {
          "base_uri": "https://localhost:8080/"
        },
        "id": "cBvjs97i02bW",
        "outputId": "6470e4a5-f0fe-41bd-9d5a-9a815acbda8c"
      },
      "source": [
        "dataset.classes"
      ],
      "execution_count": null,
      "outputs": [
        {
          "output_type": "execute_result",
          "data": {
            "text/plain": [
              "['Al Alam Palace',\n",
              " 'Al Sawadi Beach',\n",
              " 'Arabian Oryx Sanctuary',\n",
              " 'Ayn Athum, Salalah',\n",
              " 'Bahla Fort',\n",
              " 'Bait Al Baranda Museum',\n",
              " 'Bait Al Zubair Museum',\n",
              " 'Bandar Al Khairan Viewpoint',\n",
              " 'Hawana Aqua Park',\n",
              " 'Jebel Shams',\n",
              " 'Jibreen Castle',\n",
              " 'Khuriya Muriya Islands',\n",
              " 'Musandam Oman',\n",
              " 'Musandam Peninsula',\n",
              " 'Mutrah Fort',\n",
              " 'Nakhal Fort, Oman',\n",
              " 'Nizwa Fort',\n",
              " 'Royal Opera House Muscat',\n",
              " 'Snake Gorge Canyon',\n",
              " 'Sultan Qaboos Grand Mosque',\n",
              " 'Telegraph Island',\n",
              " 'The Museum of the Frankincense Land',\n",
              " 'Wadi Ash Shab',\n",
              " 'Wadi Darbat',\n",
              " 'Wadi Dayqah Dam']"
            ]
          },
          "metadata": {
            "tags": []
          },
          "execution_count": 41
        }
      ]
    },
    {
      "cell_type": "code",
      "metadata": {
        "id": "D5q0lEiPMwGz"
      },
      "source": [
        "from functools import lru_cache\n",
        "import torch\n",
        "from torch.utils.data import DataLoader\n",
        "from torch.utils.data import Dataset\n",
        "from torch.utils.data.sampler import SubsetRandomSampler\n",
        "import numpy as np\n",
        "\n",
        "class DataSplit:\n",
        "\n",
        "    def __init__(self, dataset, test_train_split=0.8, val_train_split=0.1, shuffle=False):\n",
        "        self.dataset = dataset\n",
        "\n",
        "        dataset_size = len(dataset)\n",
        "        self.indices = list(range(dataset_size))\n",
        "        test_split = int(np.floor(test_train_split * dataset_size))\n",
        "\n",
        "        if shuffle:\n",
        "            np.random.shuffle(self.indices)\n",
        "\n",
        "        train_indices, self.test_indices = self.indices[:test_split], self.indices[test_split:]\n",
        "        train_size = len(train_indices)\n",
        "        validation_split = int(np.floor((1 - val_train_split) * train_size))\n",
        "\n",
        "        self.train_indices, self.val_indices = train_indices[ : validation_split], train_indices[validation_split:]\n",
        "\n",
        "        self.train_sampler = SubsetRandomSampler(self.train_indices)\n",
        "        self.val_sampler = SubsetRandomSampler(self.val_indices)\n",
        "        self.test_sampler = SubsetRandomSampler(self.test_indices)\n",
        "\n",
        "    def get_train_split_point(self):\n",
        "        return len(self.train_sampler) + len(self.val_indices)\n",
        "\n",
        "    def get_validation_split_point(self):\n",
        "        return len(self.train_sampler)\n",
        "\n",
        "    @lru_cache(maxsize=4)\n",
        "    def get_split(self, batch_size=50, num_workers=4):\n",
        "        self.train_loader = self.get_train_loader(batch_size=batch_size, num_workers=num_workers)\n",
        "        self.val_loader = self.get_validation_loader(batch_size=batch_size, num_workers=num_workers)\n",
        "        self.test_loader = self.get_test_loader(batch_size=batch_size, num_workers=num_workers)\n",
        "        return self.train_loader, self.val_loader, self.test_loader\n",
        "\n",
        "    @lru_cache(maxsize=4)\n",
        "    def get_train_loader(self, batch_size=50, num_workers=4):\n",
        "        self.train_loader = torch.utils.data.DataLoader(self.dataset, batch_size=batch_size, sampler=self.train_sampler, shuffle=False, num_workers=num_workers)\n",
        "        return self.train_loader\n",
        "\n",
        "    @lru_cache(maxsize=4)\n",
        "    def get_validation_loader(self, batch_size=50, num_workers=4):\n",
        "        self.val_loader = torch.utils.data.DataLoader(self.dataset, batch_size=batch_size, sampler=self.val_sampler, shuffle=False, num_workers=num_workers)\n",
        "        return self.val_loader\n",
        "\n",
        "    @lru_cache(maxsize=4)\n",
        "    def get_test_loader(self, batch_size=50, num_workers=4):\n",
        "        self.test_loader = torch.utils.data.DataLoader(self.dataset, batch_size=batch_size, sampler=self.test_sampler, shuffle=False, num_workers=num_workers)\n",
        "        return self.test_loader"
      ],
      "execution_count": null,
      "outputs": []
    },
    {
      "cell_type": "code",
      "metadata": {
        "id": "YAoIKur4M6lK"
      },
      "source": [
        "train_dl, valid_dl, test_dl = DataSplit(dataset, shuffle=True).get_split(batch_size=batch_size, num_workers=8)"
      ],
      "execution_count": null,
      "outputs": []
    },
    {
      "cell_type": "code",
      "metadata": {
        "colab": {
          "base_uri": "https://localhost:8080/",
          "height": 320
        },
        "id": "M-Ry71iTEngQ",
        "outputId": "b37086ca-fb5b-43c0-8d9d-935507f36d2f"
      },
      "source": [
        "imgs, lbls = next(iter(train_dl))\n",
        "img, lbl = imgs[0], lbls[0]\n",
        "print(lbl)\n",
        "plt.imshow(img.permute(1,2,0))"
      ],
      "execution_count": null,
      "outputs": [
        {
          "output_type": "stream",
          "text": [
            "Clipping input data to the valid range for imshow with RGB data ([0..1] for floats or [0..255] for integers).\n"
          ],
          "name": "stderr"
        },
        {
          "output_type": "stream",
          "text": [
            "tensor(4)\n"
          ],
          "name": "stdout"
        },
        {
          "output_type": "execute_result",
          "data": {
            "text/plain": [
              "<matplotlib.image.AxesImage at 0x7f88ba68a6d0>"
            ]
          },
          "metadata": {
            "tags": []
          },
          "execution_count": 44
        },
        {
          "output_type": "display_data",
          "data": {
            "image/png": "[encoded data removed]",
            "text/plain": [
              "<Figure size 432x288 with 1 Axes>"
            ]
          },
          "metadata": {
            "tags": [],
            "needs_background": "light"
          }
        }
      ]
    },
    {
      "cell_type": "code",
      "metadata": {
        "id": "VNOeYerBNSn7"
      },
      "source": [
        "device = torch.device(\"cuda:0\" if torch.cuda.is_available() else \"cpu\")\n",
        "\n",
        "def train_model(model, train_dl, test_dl, lr=0.0001, epochs=5, wd=1e-5, per_ep=1,\n",
        "               amsgrad=False, early_stopping=False, n_epochs_stop=5, criterion=nn.CrossEntropyLoss(),\n",
        "                save_loc='model'):\n",
        "    # Using GPU\n",
        "    model = model.to(device)\n",
        "    \n",
        "    # Init params\n",
        "    optimizer = torch.optim.AdamW(model.parameters(), lr=lr, weight_decay=wd, amsgrad=amsgrad)\n",
        "    min_test_loss = float('inf')\n",
        "    epoch_no_improve = 0\n",
        "    scheduler = torch.optim.lr_scheduler.ReduceLROnPlateau(optimizer, 'min')\n",
        "    min_val_loss = float('inf')\n",
        "\n",
        "    # Training\n",
        "    for epoch in range(1, epochs+1):\n",
        "        running_loss = 0.0\n",
        "        valid_loss = 0.0\n",
        "        for i, (xb, yb) in enumerate(train_dl):\n",
        "            model.train()\n",
        "            imgs, labels = xb.to(device), yb.to(device)\n",
        "            optimizer.zero_grad()\n",
        "            out = model(imgs)\n",
        "            loss = criterion(out, labels)\n",
        "            loss.backward()\n",
        "            optimizer.step()\n",
        "            running_loss += loss.item()\n",
        "\n",
        "            if (i+1)%len(train_dl)==0 and epoch%per_ep==0:\n",
        "                model.eval()\n",
        "                with torch.no_grad():\n",
        "                    # Get epoch info\n",
        "                    # train_acc = get_accuracy(model, train_dl)\n",
        "                    valid_acc = get_accuracy(model, test_dl)\n",
        "                    train_loss = running_loss / len(train_dl)\n",
        "                    valid_loss = get_loss(model, test_dl)\n",
        "                    # print(f'Epoch: {epoch}    Train Loss: {round(train_loss, 6)}    Valid Loss: {round(test_loss, 6)}    Train Accuracy: {round(train_acc, 6)}    valid Accuracy: {round(valid_acc, 6)}')\n",
        "                    print(f'Epoch: {epoch}    Train Loss: {round(train_loss, 6)}    valid Loss: {round(valid_loss, 6)}    valid Accuracy: {round(valid_acc, 6)}')\n",
        "\n",
        "                    # #Early Stopping\n",
        "                    # if epoch_no_improve == n_epochs_stop:\n",
        "                    #     return\n",
        "                    # if test_loss > min_test_loss:\n",
        "                    #     epoch_no_improve += 1\n",
        "                    # else:\n",
        "                    #     epoch_no_improve = 0\n",
        "\n",
        "                    # Reset running loss\n",
        "                    running_loss = 0.0\n",
        "        if valid_loss < min_val_loss:\n",
        "            torch.save(model, save_loc)\n",
        "        scheduler.step(valid_loss)\n",
        "    return torch.load(save_loc)\n",
        "\n",
        "def get_accuracy(model, dataloader):\n",
        "    model.eval()\n",
        "    with torch.no_grad():\n",
        "        total = 0\n",
        "        correct = 0\n",
        "        for i, (xb, yb) in enumerate(dataloader):\n",
        "            imgs, labels = xb.to(device), yb.to(device)\n",
        "            out = model(imgs)\n",
        "            _, predicted = torch.max(out, 1)\n",
        "            correct += (predicted == labels).sum()\n",
        "            total += len(yb)\n",
        "    return (correct / total).item()\n",
        "\n",
        "def get_loss(model, dataloader, criterion=nn.CrossEntropyLoss()):\n",
        "    model.eval()\n",
        "    running_loss = 0\n",
        "    with torch.no_grad():\n",
        "        for xb, yb in test_dl:\n",
        "            imgs, labels = xb.to(device), yb.to(device)\n",
        "            out = model(imgs)\n",
        "            running_loss += criterion(out, labels)\n",
        "    return (running_loss / len(test_dl)).item()"
      ],
      "execution_count": null,
      "outputs": []
    },
    {
      "cell_type": "markdown",
      "metadata": {
        "id": "VroYIpRDbJbG"
      },
      "source": [
        "# Models"
      ]
    },
    {
      "cell_type": "code",
      "metadata": {
        "id": "p8Da3KLdvh__"
      },
      "source": [
        "class ResNet(nn.Module):\n",
        "    def __init__(self, in_channels=3, num_classes=2, dropout=0.1):\n",
        "        super(ResNet, self).__init__()\n",
        "        \n",
        "        self.conv1 = self.conv_block(in_channels, 32, pool=2, stride=2, dropout=dropout)\n",
        "        self.resn1 = self.conv_block(32, 32, times=1, dropout=dropout)            # 32 x 64 x 64\n",
        "\n",
        "        self.conv2 = self.conv_block(32, 64, pool=2, stride=2, dropout=dropout)         \n",
        "        self.resn2 = self.conv_block(64, 64, times=1, dropout=dropout)            # 64 x 16 x 16\n",
        "\n",
        "        self.conv3 = self.conv_block(64, 128, pool=2, stride=2, dropout=dropout)        \n",
        "        self.resn3 = self.conv_block(128, 128, times=1, dropout=dropout)           # 128 x 4 x 4\n",
        "\n",
        "        self.conv4 = self.conv_block(128, 256, pool=2, stride=1, dropout=dropout)   \n",
        "        self.resn4 = self.conv_block(256, 256, times=1, dropout=dropout)           # 256 x 2 x 2\n",
        "\n",
        "        self.fcnl1 = nn.Sequential(nn.AdaptiveMaxPool2d(1), nn.Flatten(), nn.Linear(256, num_classes))\n",
        "    \n",
        "    def forward(self, x):\n",
        "        out = self.conv1(x)\n",
        "        out = self.resn1(out) + out\n",
        "        out = self.conv2(out)\n",
        "        out = self.resn2(out) + out\n",
        "        out = self.conv3(out)\n",
        "        out = self.resn3(out) + out\n",
        "        out = self.conv4(out)\n",
        "        out = self.resn4(out) + out\n",
        "        out = self.fcnl1(out)\n",
        "        return out\n",
        "    \n",
        "    def conv_block(self, in_channels, out_channels, pool=1, times=1, stride=1, dropout=0):\n",
        "        layers = []\n",
        "        for _ in range(times):\n",
        "            layers += [nn.Conv2d(in_channels, out_channels, kernel_size=3, stride=stride, padding=1)]            \n",
        "            layers += [nn.ReLU(inplace=True)]\n",
        "            layers += [nn.MaxPool2d(pool)] if pool else []\n",
        "            layers += [nn.Dropout2d(dropout)]\n",
        "            layers += [nn.BatchNorm2d(out_channels)]\n",
        "        return nn.Sequential(*layers)"
      ],
      "execution_count": null,
      "outputs": []
    },
    {
      "cell_type": "code",
      "metadata": {
        "colab": {
          "base_uri": "https://localhost:8080/"
        },
        "id": "uiaAcFzhvpSw",
        "outputId": "80a7ad2b-72dc-48ad-e605-59abd2840fe7"
      },
      "source": [
        "# %%time\n",
        "res_model = ResNet(num_classes=n_classes, dropout=0.1)\n",
        "train_model(res_model, train_dl, valid_dl, lr=0.001, epochs=20, wd=0.1, amsgrad=True, per_ep=1)"
      ],
      "execution_count": null,
      "outputs": [
        {
          "output_type": "stream",
          "text": [
            "Epoch: 1    Train Loss: 3.22897    valid Loss: 2.700659    valid Accuracy: 0.231579\n",
            "Epoch: 2    Train Loss: 2.723741    valid Loss: 2.470518    valid Accuracy: 0.268421\n",
            "Epoch: 3    Train Loss: 2.504413    valid Loss: 2.403666    valid Accuracy: 0.331579\n",
            "Epoch: 4    Train Loss: 2.365512    valid Loss: 2.211895    valid Accuracy: 0.289474\n",
            "Epoch: 5    Train Loss: 2.208166    valid Loss: 2.088708    valid Accuracy: 0.373684\n",
            "Epoch: 6    Train Loss: 2.076633    valid Loss: 2.070534    valid Accuracy: 0.373684\n",
            "Epoch: 7    Train Loss: 1.976399    valid Loss: 2.099473    valid Accuracy: 0.363158\n",
            "Epoch: 8    Train Loss: 1.910461    valid Loss: 2.008297    valid Accuracy: 0.4\n",
            "Epoch: 9    Train Loss: 1.795375    valid Loss: 1.927837    valid Accuracy: 0.394737\n",
            "Epoch: 10    Train Loss: 1.75233    valid Loss: 1.894325    valid Accuracy: 0.431579\n",
            "Epoch: 11    Train Loss: 1.630569    valid Loss: 2.010959    valid Accuracy: 0.405263\n",
            "Epoch: 12    Train Loss: 1.611501    valid Loss: 1.95154    valid Accuracy: 0.442105\n",
            "Epoch: 13    Train Loss: 1.516695    valid Loss: 1.924699    valid Accuracy: 0.421053\n",
            "Epoch: 14    Train Loss: 1.473585    valid Loss: 1.851169    valid Accuracy: 0.447368\n",
            "Epoch: 15    Train Loss: 1.420508    valid Loss: 1.90777    valid Accuracy: 0.478947\n",
            "Epoch: 16    Train Loss: 1.337129    valid Loss: 1.800711    valid Accuracy: 0.426316\n",
            "Epoch: 17    Train Loss: 1.284063    valid Loss: 1.816381    valid Accuracy: 0.478947\n",
            "Epoch: 18    Train Loss: 1.265399    valid Loss: 1.917928    valid Accuracy: 0.410526\n",
            "Epoch: 19    Train Loss: 1.189887    valid Loss: 1.93104    valid Accuracy: 0.463158\n",
            "Epoch: 20    Train Loss: 1.13013    valid Loss: 1.829215    valid Accuracy: 0.452632\n"
          ],
          "name": "stdout"
        },
        {
          "output_type": "execute_result",
          "data": {
            "text/plain": [
              "ResNet(\n",
              "  (conv1): Sequential(\n",
              "    (0): Conv2d(3, 32, kernel_size=(3, 3), stride=(2, 2), padding=(1, 1))\n",
              "    (1): ReLU(inplace=True)\n",
              "    (2): MaxPool2d(kernel_size=2, stride=2, padding=0, dilation=1, ceil_mode=False)\n",
              "    (3): Dropout2d(p=0.1, inplace=False)\n",
              "    (4): BatchNorm2d(32, eps=1e-05, momentum=0.1, affine=True, track_running_stats=True)\n",
              "  )\n",
              "  (resn1): Sequential(\n",
              "    (0): Conv2d(32, 32, kernel_size=(3, 3), stride=(1, 1), padding=(1, 1))\n",
              "    (1): ReLU(inplace=True)\n",
              "    (2): MaxPool2d(kernel_size=1, stride=1, padding=0, dilation=1, ceil_mode=False)\n",
              "    (3): Dropout2d(p=0.1, inplace=False)\n",
              "    (4): BatchNorm2d(32, eps=1e-05, momentum=0.1, affine=True, track_running_stats=True)\n",
              "  )\n",
              "  (conv2): Sequential(\n",
              "    (0): Conv2d(32, 64, kernel_size=(3, 3), stride=(2, 2), padding=(1, 1))\n",
              "    (1): ReLU(inplace=True)\n",
              "    (2): MaxPool2d(kernel_size=2, stride=2, padding=0, dilation=1, ceil_mode=False)\n",
              "    (3): Dropout2d(p=0.1, inplace=False)\n",
              "    (4): BatchNorm2d(64, eps=1e-05, momentum=0.1, affine=True, track_running_stats=True)\n",
              "  )\n",
              "  (resn2): Sequential(\n",
              "    (0): Conv2d(64, 64, kernel_size=(3, 3), stride=(1, 1), padding=(1, 1))\n",
              "    (1): ReLU(inplace=True)\n",
              "    (2): MaxPool2d(kernel_size=1, stride=1, padding=0, dilation=1, ceil_mode=False)\n",
              "    (3): Dropout2d(p=0.1, inplace=False)\n",
              "    (4): BatchNorm2d(64, eps=1e-05, momentum=0.1, affine=True, track_running_stats=True)\n",
              "  )\n",
              "  (conv3): Sequential(\n",
              "    (0): Conv2d(64, 128, kernel_size=(3, 3), stride=(2, 2), padding=(1, 1))\n",
              "    (1): ReLU(inplace=True)\n",
              "    (2): MaxPool2d(kernel_size=2, stride=2, padding=0, dilation=1, ceil_mode=False)\n",
              "    (3): Dropout2d(p=0.1, inplace=False)\n",
              "    (4): BatchNorm2d(128, eps=1e-05, momentum=0.1, affine=True, track_running_stats=True)\n",
              "  )\n",
              "  (resn3): Sequential(\n",
              "    (0): Conv2d(128, 128, kernel_size=(3, 3), stride=(1, 1), padding=(1, 1))\n",
              "    (1): ReLU(inplace=True)\n",
              "    (2): MaxPool2d(kernel_size=1, stride=1, padding=0, dilation=1, ceil_mode=False)\n",
              "    (3): Dropout2d(p=0.1, inplace=False)\n",
              "    (4): BatchNorm2d(128, eps=1e-05, momentum=0.1, affine=True, track_running_stats=True)\n",
              "  )\n",
              "  (conv4): Sequential(\n",
              "    (0): Conv2d(128, 256, kernel_size=(3, 3), stride=(1, 1), padding=(1, 1))\n",
              "    (1): ReLU(inplace=True)\n",
              "    (2): MaxPool2d(kernel_size=2, stride=2, padding=0, dilation=1, ceil_mode=False)\n",
              "    (3): Dropout2d(p=0.1, inplace=False)\n",
              "    (4): BatchNorm2d(256, eps=1e-05, momentum=0.1, affine=True, track_running_stats=True)\n",
              "  )\n",
              "  (resn4): Sequential(\n",
              "    (0): Conv2d(256, 256, kernel_size=(3, 3), stride=(1, 1), padding=(1, 1))\n",
              "    (1): ReLU(inplace=True)\n",
              "    (2): MaxPool2d(kernel_size=1, stride=1, padding=0, dilation=1, ceil_mode=False)\n",
              "    (3): Dropout2d(p=0.1, inplace=False)\n",
              "    (4): BatchNorm2d(256, eps=1e-05, momentum=0.1, affine=True, track_running_stats=True)\n",
              "  )\n",
              "  (fcnl1): Sequential(\n",
              "    (0): AdaptiveMaxPool2d(output_size=1)\n",
              "    (1): Flatten(start_dim=1, end_dim=-1)\n",
              "    (2): Linear(in_features=256, out_features=25, bias=True)\n",
              "  )\n",
              ")"
            ]
          },
          "metadata": {
            "tags": []
          },
          "execution_count": 79
        }
      ]
    },
    {
      "cell_type": "code",
      "metadata": {
        "id": "K63er6NNZE98"
      },
      "source": [
        "class ResNet_32x32(nn.Module):\n",
        "    def __init__(self, in_channels=3, num_classes=2):\n",
        "        super(ResNet_32x32, self).__init__()\n",
        "        \n",
        "        self.conv1 = self.conv_block(in_channels, 32, pool=2)\n",
        "        self.resn1 = self.conv_block(32, 32, times=1)            # 32 x 16 x 16\n",
        "\n",
        "        self.conv2 = self.conv_block(32, 64, pool=2)         \n",
        "        self.resn2 = self.conv_block(64, 64, times=1)            # 64 x 8 x 8\n",
        "\n",
        "        self.conv3 = self.conv_block(64, 128, pool=2)        \n",
        "        self.resn3 = self.conv_block(128, 128, times=1)           # 128 x 4 x 4\n",
        "\n",
        "        self.conv4 = self.conv_block(128, 256, pool=2)   \n",
        "        self.resn4 = self.conv_block(256, 256, times=1)           # 256 x 2 x 2\n",
        "\n",
        "        self.fcnl1 = nn.Sequential(nn.AdaptiveAvgPool2d(1), nn.Flatten(), nn.Linear(256, num_classes))\n",
        "    \n",
        "    def forward(self, x):\n",
        "        out = self.conv1(x)\n",
        "        out = self.resn1(out) + out\n",
        "        out = self.conv2(out)\n",
        "        out = self.resn2(out) + out\n",
        "        out = self.conv3(out)\n",
        "        out = self.resn3(out) + out\n",
        "        out = self.conv4(out)\n",
        "        out = self.resn4(out) + out\n",
        "        out = self.fcnl1(out)\n",
        "        return out\n",
        "    \n",
        "    def conv_block(self, in_channels, out_channels, pool=1, times=1, stride=1):\n",
        "        layers = []\n",
        "        for _ in range(times):\n",
        "            layers += [nn.Conv2d(in_channels, out_channels, kernel_size=3, stride=stride, padding=1), \n",
        "                       nn.ReLU(inplace=True),\n",
        "                       nn.BatchNorm2d(out_channels)]\n",
        "            if pool:\n",
        "                layers += [nn.MaxPool2d(pool)]\n",
        "        return nn.Sequential(*layers)"
      ],
      "execution_count": null,
      "outputs": []
    },
    {
      "cell_type": "code",
      "metadata": {
        "colab": {
          "base_uri": "https://localhost:8080/",
          "height": 375
        },
        "id": "g8bt7-EEZF1f",
        "outputId": "3df6d60e-4d6a-4ad5-d019-104fc65d4f7e"
      },
      "source": [
        "# %%time\n",
        "res_model = ResNet_32x32(num_classes=n_classes)\n",
        "train_model(res_model, train_dl, valid_dl, lr=0.0001, epochs=10, wd=0, amsgrad=True, per_ep=1)"
      ],
      "execution_count": null,
      "outputs": [
        {
          "output_type": "stream",
          "text": [
            "Epoch: 1    Train Loss: 3.265235    Train Accuracy: 0.12738    valid Accuracy: 0.082353\n",
            "Epoch: 2    Train Loss: 2.973092    Train Accuracy: 0.173999    valid Accuracy: 0.052941\n"
          ],
          "name": "stdout"
        },
        {
          "output_type": "error",
          "ename": "KeyboardInterrupt",
          "evalue": "ignored",
          "traceback": [
            "\u001b[0;31m---------------------------------------------------------------------------\u001b[0m",
            "\u001b[0;31mKeyboardInterrupt\u001b[0m                         Traceback (most recent call last)",
            "\u001b[0;32m<ipython-input-169-d048c79f0be3>\u001b[0m in \u001b[0;36m<module>\u001b[0;34m()\u001b[0m\n\u001b[1;32m      1\u001b[0m \u001b[0;31m# %%time\u001b[0m\u001b[0;34m\u001b[0m\u001b[0;34m\u001b[0m\u001b[0;34m\u001b[0m\u001b[0m\n\u001b[1;32m      2\u001b[0m \u001b[0mres_model\u001b[0m \u001b[0;34m=\u001b[0m \u001b[0mResNet_32x32\u001b[0m\u001b[0;34m(\u001b[0m\u001b[0mnum_classes\u001b[0m\u001b[0;34m=\u001b[0m\u001b[0mn_classes\u001b[0m\u001b[0;34m)\u001b[0m\u001b[0;34m\u001b[0m\u001b[0;34m\u001b[0m\u001b[0m\n\u001b[0;32m----> 3\u001b[0;31m \u001b[0mtrain_model\u001b[0m\u001b[0;34m(\u001b[0m\u001b[0mres_model\u001b[0m\u001b[0;34m,\u001b[0m \u001b[0mtrain_dl\u001b[0m\u001b[0;34m,\u001b[0m \u001b[0mvalid_dl\u001b[0m\u001b[0;34m,\u001b[0m \u001b[0mlr\u001b[0m\u001b[0;34m=\u001b[0m\u001b[0;36m0.0001\u001b[0m\u001b[0;34m,\u001b[0m \u001b[0mepochs\u001b[0m\u001b[0;34m=\u001b[0m\u001b[0;36m10\u001b[0m\u001b[0;34m,\u001b[0m \u001b[0mwd\u001b[0m\u001b[0;34m=\u001b[0m\u001b[0;36m0\u001b[0m\u001b[0;34m,\u001b[0m \u001b[0mamsgrad\u001b[0m\u001b[0;34m=\u001b[0m\u001b[0;32mTrue\u001b[0m\u001b[0;34m,\u001b[0m \u001b[0mper_ep\u001b[0m\u001b[0;34m=\u001b[0m\u001b[0;36m1\u001b[0m\u001b[0;34m)\u001b[0m\u001b[0;34m\u001b[0m\u001b[0;34m\u001b[0m\u001b[0m\n\u001b[0m",
            "\u001b[0;32m<ipython-input-166-9e3d523adcc1>\u001b[0m in \u001b[0;36mtrain_model\u001b[0;34m(model, train_dl, test_dl, lr, epochs, wd, per_ep, amsgrad, early_stopping, n_epochs_stop, criterion)\u001b[0m\n\u001b[1;32m     17\u001b[0m     \u001b[0;32mfor\u001b[0m \u001b[0mepoch\u001b[0m \u001b[0;32min\u001b[0m \u001b[0mrange\u001b[0m\u001b[0;34m(\u001b[0m\u001b[0;36m1\u001b[0m\u001b[0;34m,\u001b[0m \u001b[0mepochs\u001b[0m\u001b[0;34m+\u001b[0m\u001b[0;36m1\u001b[0m\u001b[0;34m)\u001b[0m\u001b[0;34m:\u001b[0m\u001b[0;34m\u001b[0m\u001b[0;34m\u001b[0m\u001b[0m\n\u001b[1;32m     18\u001b[0m         \u001b[0mrunning_loss\u001b[0m \u001b[0;34m=\u001b[0m \u001b[0;36m0.0\u001b[0m\u001b[0;34m\u001b[0m\u001b[0;34m\u001b[0m\u001b[0m\n\u001b[0;32m---> 19\u001b[0;31m         \u001b[0;32mfor\u001b[0m \u001b[0mi\u001b[0m\u001b[0;34m,\u001b[0m \u001b[0;34m(\u001b[0m\u001b[0mxb\u001b[0m\u001b[0;34m,\u001b[0m \u001b[0myb\u001b[0m\u001b[0;34m)\u001b[0m \u001b[0;32min\u001b[0m \u001b[0menumerate\u001b[0m\u001b[0;34m(\u001b[0m\u001b[0mtrain_dl\u001b[0m\u001b[0;34m)\u001b[0m\u001b[0;34m:\u001b[0m\u001b[0;34m\u001b[0m\u001b[0;34m\u001b[0m\u001b[0m\n\u001b[0m\u001b[1;32m     20\u001b[0m \u001b[0;34m\u001b[0m\u001b[0m\n\u001b[1;32m     21\u001b[0m             \u001b[0mimgs\u001b[0m\u001b[0;34m,\u001b[0m \u001b[0mlabels\u001b[0m \u001b[0;34m=\u001b[0m \u001b[0mxb\u001b[0m\u001b[0;34m.\u001b[0m\u001b[0mto\u001b[0m\u001b[0;34m(\u001b[0m\u001b[0mdevice\u001b[0m\u001b[0;34m)\u001b[0m\u001b[0;34m,\u001b[0m \u001b[0myb\u001b[0m\u001b[0;34m.\u001b[0m\u001b[0mto\u001b[0m\u001b[0;34m(\u001b[0m\u001b[0mdevice\u001b[0m\u001b[0;34m)\u001b[0m\u001b[0;34m\u001b[0m\u001b[0;34m\u001b[0m\u001b[0m\n",
            "\u001b[0;32m/usr/local/lib/python3.7/dist-packages/torch/utils/data/dataloader.py\u001b[0m in \u001b[0;36m__next__\u001b[0;34m(self)\u001b[0m\n\u001b[1;32m    515\u001b[0m             \u001b[0;32mif\u001b[0m \u001b[0mself\u001b[0m\u001b[0;34m.\u001b[0m\u001b[0m_sampler_iter\u001b[0m \u001b[0;32mis\u001b[0m \u001b[0;32mNone\u001b[0m\u001b[0;34m:\u001b[0m\u001b[0;34m\u001b[0m\u001b[0;34m\u001b[0m\u001b[0m\n\u001b[1;32m    516\u001b[0m                 \u001b[0mself\u001b[0m\u001b[0;34m.\u001b[0m\u001b[0m_reset\u001b[0m\u001b[0;34m(\u001b[0m\u001b[0;34m)\u001b[0m\u001b[0;34m\u001b[0m\u001b[0;34m\u001b[0m\u001b[0m\n\u001b[0;32m--> 517\u001b[0;31m             \u001b[0mdata\u001b[0m \u001b[0;34m=\u001b[0m \u001b[0mself\u001b[0m\u001b[0;34m.\u001b[0m\u001b[0m_next_data\u001b[0m\u001b[0;34m(\u001b[0m\u001b[0;34m)\u001b[0m\u001b[0;34m\u001b[0m\u001b[0;34m\u001b[0m\u001b[0m\n\u001b[0m\u001b[1;32m    518\u001b[0m             \u001b[0mself\u001b[0m\u001b[0;34m.\u001b[0m\u001b[0m_num_yielded\u001b[0m \u001b[0;34m+=\u001b[0m \u001b[0;36m1\u001b[0m\u001b[0;34m\u001b[0m\u001b[0;34m\u001b[0m\u001b[0m\n\u001b[1;32m    519\u001b[0m             \u001b[0;32mif\u001b[0m \u001b[0mself\u001b[0m\u001b[0;34m.\u001b[0m\u001b[0m_dataset_kind\u001b[0m \u001b[0;34m==\u001b[0m \u001b[0m_DatasetKind\u001b[0m\u001b[0;34m.\u001b[0m\u001b[0mIterable\u001b[0m \u001b[0;32mand\u001b[0m\u001b[0;31m \u001b[0m\u001b[0;31m\\\u001b[0m\u001b[0;34m\u001b[0m\u001b[0;34m\u001b[0m\u001b[0m\n",
            "\u001b[0;32m/usr/local/lib/python3.7/dist-packages/torch/utils/data/dataloader.py\u001b[0m in \u001b[0;36m_next_data\u001b[0;34m(self)\u001b[0m\n\u001b[1;32m   1180\u001b[0m \u001b[0;34m\u001b[0m\u001b[0m\n\u001b[1;32m   1181\u001b[0m             \u001b[0;32massert\u001b[0m \u001b[0;32mnot\u001b[0m \u001b[0mself\u001b[0m\u001b[0;34m.\u001b[0m\u001b[0m_shutdown\u001b[0m \u001b[0;32mand\u001b[0m \u001b[0mself\u001b[0m\u001b[0;34m.\u001b[0m\u001b[0m_tasks_outstanding\u001b[0m \u001b[0;34m>\u001b[0m \u001b[0;36m0\u001b[0m\u001b[0;34m\u001b[0m\u001b[0;34m\u001b[0m\u001b[0m\n\u001b[0;32m-> 1182\u001b[0;31m             \u001b[0midx\u001b[0m\u001b[0;34m,\u001b[0m \u001b[0mdata\u001b[0m \u001b[0;34m=\u001b[0m \u001b[0mself\u001b[0m\u001b[0;34m.\u001b[0m\u001b[0m_get_data\u001b[0m\u001b[0;34m(\u001b[0m\u001b[0;34m)\u001b[0m\u001b[0;34m\u001b[0m\u001b[0;34m\u001b[0m\u001b[0m\n\u001b[0m\u001b[1;32m   1183\u001b[0m             \u001b[0mself\u001b[0m\u001b[0;34m.\u001b[0m\u001b[0m_tasks_outstanding\u001b[0m \u001b[0;34m-=\u001b[0m \u001b[0;36m1\u001b[0m\u001b[0;34m\u001b[0m\u001b[0;34m\u001b[0m\u001b[0m\n\u001b[1;32m   1184\u001b[0m             \u001b[0;32mif\u001b[0m \u001b[0mself\u001b[0m\u001b[0;34m.\u001b[0m\u001b[0m_dataset_kind\u001b[0m \u001b[0;34m==\u001b[0m \u001b[0m_DatasetKind\u001b[0m\u001b[0;34m.\u001b[0m\u001b[0mIterable\u001b[0m\u001b[0;34m:\u001b[0m\u001b[0;34m\u001b[0m\u001b[0;34m\u001b[0m\u001b[0m\n",
            "\u001b[0;32m/usr/local/lib/python3.7/dist-packages/torch/utils/data/dataloader.py\u001b[0m in \u001b[0;36m_get_data\u001b[0;34m(self)\u001b[0m\n\u001b[1;32m   1146\u001b[0m         \u001b[0;32melse\u001b[0m\u001b[0;34m:\u001b[0m\u001b[0;34m\u001b[0m\u001b[0;34m\u001b[0m\u001b[0m\n\u001b[1;32m   1147\u001b[0m             \u001b[0;32mwhile\u001b[0m \u001b[0;32mTrue\u001b[0m\u001b[0;34m:\u001b[0m\u001b[0;34m\u001b[0m\u001b[0;34m\u001b[0m\u001b[0m\n\u001b[0;32m-> 1148\u001b[0;31m                 \u001b[0msuccess\u001b[0m\u001b[0;34m,\u001b[0m \u001b[0mdata\u001b[0m \u001b[0;34m=\u001b[0m \u001b[0mself\u001b[0m\u001b[0;34m.\u001b[0m\u001b[0m_try_get_data\u001b[0m\u001b[0;34m(\u001b[0m\u001b[0;34m)\u001b[0m\u001b[0;34m\u001b[0m\u001b[0;34m\u001b[0m\u001b[0m\n\u001b[0m\u001b[1;32m   1149\u001b[0m                 \u001b[0;32mif\u001b[0m \u001b[0msuccess\u001b[0m\u001b[0;34m:\u001b[0m\u001b[0;34m\u001b[0m\u001b[0;34m\u001b[0m\u001b[0m\n\u001b[1;32m   1150\u001b[0m                     \u001b[0;32mreturn\u001b[0m \u001b[0mdata\u001b[0m\u001b[0;34m\u001b[0m\u001b[0;34m\u001b[0m\u001b[0m\n",
            "\u001b[0;32m/usr/local/lib/python3.7/dist-packages/torch/utils/data/dataloader.py\u001b[0m in \u001b[0;36m_try_get_data\u001b[0;34m(self, timeout)\u001b[0m\n\u001b[1;32m    984\u001b[0m         \u001b[0;31m#   (bool: whether successfully get data, any: data if successful else None)\u001b[0m\u001b[0;34m\u001b[0m\u001b[0;34m\u001b[0m\u001b[0;34m\u001b[0m\u001b[0m\n\u001b[1;32m    985\u001b[0m         \u001b[0;32mtry\u001b[0m\u001b[0;34m:\u001b[0m\u001b[0;34m\u001b[0m\u001b[0;34m\u001b[0m\u001b[0m\n\u001b[0;32m--> 986\u001b[0;31m             \u001b[0mdata\u001b[0m \u001b[0;34m=\u001b[0m \u001b[0mself\u001b[0m\u001b[0;34m.\u001b[0m\u001b[0m_data_queue\u001b[0m\u001b[0;34m.\u001b[0m\u001b[0mget\u001b[0m\u001b[0;34m(\u001b[0m\u001b[0mtimeout\u001b[0m\u001b[0;34m=\u001b[0m\u001b[0mtimeout\u001b[0m\u001b[0;34m)\u001b[0m\u001b[0;34m\u001b[0m\u001b[0;34m\u001b[0m\u001b[0m\n\u001b[0m\u001b[1;32m    987\u001b[0m             \u001b[0;32mreturn\u001b[0m \u001b[0;34m(\u001b[0m\u001b[0;32mTrue\u001b[0m\u001b[0;34m,\u001b[0m \u001b[0mdata\u001b[0m\u001b[0;34m)\u001b[0m\u001b[0;34m\u001b[0m\u001b[0;34m\u001b[0m\u001b[0m\n\u001b[1;32m    988\u001b[0m         \u001b[0;32mexcept\u001b[0m \u001b[0mException\u001b[0m \u001b[0;32mas\u001b[0m \u001b[0me\u001b[0m\u001b[0;34m:\u001b[0m\u001b[0;34m\u001b[0m\u001b[0;34m\u001b[0m\u001b[0m\n",
            "\u001b[0;32m/usr/lib/python3.7/multiprocessing/queues.py\u001b[0m in \u001b[0;36mget\u001b[0;34m(self, block, timeout)\u001b[0m\n\u001b[1;32m    102\u001b[0m                 \u001b[0;32mif\u001b[0m \u001b[0mblock\u001b[0m\u001b[0;34m:\u001b[0m\u001b[0;34m\u001b[0m\u001b[0;34m\u001b[0m\u001b[0m\n\u001b[1;32m    103\u001b[0m                     \u001b[0mtimeout\u001b[0m \u001b[0;34m=\u001b[0m \u001b[0mdeadline\u001b[0m \u001b[0;34m-\u001b[0m \u001b[0mtime\u001b[0m\u001b[0;34m.\u001b[0m\u001b[0mmonotonic\u001b[0m\u001b[0;34m(\u001b[0m\u001b[0;34m)\u001b[0m\u001b[0;34m\u001b[0m\u001b[0;34m\u001b[0m\u001b[0m\n\u001b[0;32m--> 104\u001b[0;31m                     \u001b[0;32mif\u001b[0m \u001b[0;32mnot\u001b[0m \u001b[0mself\u001b[0m\u001b[0;34m.\u001b[0m\u001b[0m_poll\u001b[0m\u001b[0;34m(\u001b[0m\u001b[0mtimeout\u001b[0m\u001b[0;34m)\u001b[0m\u001b[0;34m:\u001b[0m\u001b[0;34m\u001b[0m\u001b[0;34m\u001b[0m\u001b[0m\n\u001b[0m\u001b[1;32m    105\u001b[0m                         \u001b[0;32mraise\u001b[0m \u001b[0mEmpty\u001b[0m\u001b[0;34m\u001b[0m\u001b[0;34m\u001b[0m\u001b[0m\n\u001b[1;32m    106\u001b[0m                 \u001b[0;32melif\u001b[0m \u001b[0;32mnot\u001b[0m \u001b[0mself\u001b[0m\u001b[0;34m.\u001b[0m\u001b[0m_poll\u001b[0m\u001b[0;34m(\u001b[0m\u001b[0;34m)\u001b[0m\u001b[0;34m:\u001b[0m\u001b[0;34m\u001b[0m\u001b[0;34m\u001b[0m\u001b[0m\n",
            "\u001b[0;32m/usr/lib/python3.7/multiprocessing/connection.py\u001b[0m in \u001b[0;36mpoll\u001b[0;34m(self, timeout)\u001b[0m\n\u001b[1;32m    255\u001b[0m         \u001b[0mself\u001b[0m\u001b[0;34m.\u001b[0m\u001b[0m_check_closed\u001b[0m\u001b[0;34m(\u001b[0m\u001b[0;34m)\u001b[0m\u001b[0;34m\u001b[0m\u001b[0;34m\u001b[0m\u001b[0m\n\u001b[1;32m    256\u001b[0m         \u001b[0mself\u001b[0m\u001b[0;34m.\u001b[0m\u001b[0m_check_readable\u001b[0m\u001b[0;34m(\u001b[0m\u001b[0;34m)\u001b[0m\u001b[0;34m\u001b[0m\u001b[0;34m\u001b[0m\u001b[0m\n\u001b[0;32m--> 257\u001b[0;31m         \u001b[0;32mreturn\u001b[0m \u001b[0mself\u001b[0m\u001b[0;34m.\u001b[0m\u001b[0m_poll\u001b[0m\u001b[0;34m(\u001b[0m\u001b[0mtimeout\u001b[0m\u001b[0;34m)\u001b[0m\u001b[0;34m\u001b[0m\u001b[0;34m\u001b[0m\u001b[0m\n\u001b[0m\u001b[1;32m    258\u001b[0m \u001b[0;34m\u001b[0m\u001b[0m\n\u001b[1;32m    259\u001b[0m     \u001b[0;32mdef\u001b[0m \u001b[0m__enter__\u001b[0m\u001b[0;34m(\u001b[0m\u001b[0mself\u001b[0m\u001b[0;34m)\u001b[0m\u001b[0;34m:\u001b[0m\u001b[0;34m\u001b[0m\u001b[0;34m\u001b[0m\u001b[0m\n",
            "\u001b[0;32m/usr/lib/python3.7/multiprocessing/connection.py\u001b[0m in \u001b[0;36m_poll\u001b[0;34m(self, timeout)\u001b[0m\n\u001b[1;32m    412\u001b[0m \u001b[0;34m\u001b[0m\u001b[0m\n\u001b[1;32m    413\u001b[0m     \u001b[0;32mdef\u001b[0m \u001b[0m_poll\u001b[0m\u001b[0;34m(\u001b[0m\u001b[0mself\u001b[0m\u001b[0;34m,\u001b[0m \u001b[0mtimeout\u001b[0m\u001b[0;34m)\u001b[0m\u001b[0;34m:\u001b[0m\u001b[0;34m\u001b[0m\u001b[0;34m\u001b[0m\u001b[0m\n\u001b[0;32m--> 414\u001b[0;31m         \u001b[0mr\u001b[0m \u001b[0;34m=\u001b[0m \u001b[0mwait\u001b[0m\u001b[0;34m(\u001b[0m\u001b[0;34m[\u001b[0m\u001b[0mself\u001b[0m\u001b[0;34m]\u001b[0m\u001b[0;34m,\u001b[0m \u001b[0mtimeout\u001b[0m\u001b[0;34m)\u001b[0m\u001b[0;34m\u001b[0m\u001b[0;34m\u001b[0m\u001b[0m\n\u001b[0m\u001b[1;32m    415\u001b[0m         \u001b[0;32mreturn\u001b[0m \u001b[0mbool\u001b[0m\u001b[0;34m(\u001b[0m\u001b[0mr\u001b[0m\u001b[0;34m)\u001b[0m\u001b[0;34m\u001b[0m\u001b[0;34m\u001b[0m\u001b[0m\n\u001b[1;32m    416\u001b[0m \u001b[0;34m\u001b[0m\u001b[0m\n",
            "\u001b[0;32m/usr/lib/python3.7/multiprocessing/connection.py\u001b[0m in \u001b[0;36mwait\u001b[0;34m(object_list, timeout)\u001b[0m\n\u001b[1;32m    919\u001b[0m \u001b[0;34m\u001b[0m\u001b[0m\n\u001b[1;32m    920\u001b[0m             \u001b[0;32mwhile\u001b[0m \u001b[0;32mTrue\u001b[0m\u001b[0;34m:\u001b[0m\u001b[0;34m\u001b[0m\u001b[0;34m\u001b[0m\u001b[0m\n\u001b[0;32m--> 921\u001b[0;31m                 \u001b[0mready\u001b[0m \u001b[0;34m=\u001b[0m \u001b[0mselector\u001b[0m\u001b[0;34m.\u001b[0m\u001b[0mselect\u001b[0m\u001b[0;34m(\u001b[0m\u001b[0mtimeout\u001b[0m\u001b[0;34m)\u001b[0m\u001b[0;34m\u001b[0m\u001b[0;34m\u001b[0m\u001b[0m\n\u001b[0m\u001b[1;32m    922\u001b[0m                 \u001b[0;32mif\u001b[0m \u001b[0mready\u001b[0m\u001b[0;34m:\u001b[0m\u001b[0;34m\u001b[0m\u001b[0;34m\u001b[0m\u001b[0m\n\u001b[1;32m    923\u001b[0m                     \u001b[0;32mreturn\u001b[0m \u001b[0;34m[\u001b[0m\u001b[0mkey\u001b[0m\u001b[0;34m.\u001b[0m\u001b[0mfileobj\u001b[0m \u001b[0;32mfor\u001b[0m \u001b[0;34m(\u001b[0m\u001b[0mkey\u001b[0m\u001b[0;34m,\u001b[0m \u001b[0mevents\u001b[0m\u001b[0;34m)\u001b[0m \u001b[0;32min\u001b[0m \u001b[0mready\u001b[0m\u001b[0;34m]\u001b[0m\u001b[0;34m\u001b[0m\u001b[0;34m\u001b[0m\u001b[0m\n",
            "\u001b[0;32m/usr/lib/python3.7/selectors.py\u001b[0m in \u001b[0;36mselect\u001b[0;34m(self, timeout)\u001b[0m\n\u001b[1;32m    413\u001b[0m         \u001b[0mready\u001b[0m \u001b[0;34m=\u001b[0m \u001b[0;34m[\u001b[0m\u001b[0;34m]\u001b[0m\u001b[0;34m\u001b[0m\u001b[0;34m\u001b[0m\u001b[0m\n\u001b[1;32m    414\u001b[0m         \u001b[0;32mtry\u001b[0m\u001b[0;34m:\u001b[0m\u001b[0;34m\u001b[0m\u001b[0;34m\u001b[0m\u001b[0m\n\u001b[0;32m--> 415\u001b[0;31m             \u001b[0mfd_event_list\u001b[0m \u001b[0;34m=\u001b[0m \u001b[0mself\u001b[0m\u001b[0;34m.\u001b[0m\u001b[0m_selector\u001b[0m\u001b[0;34m.\u001b[0m\u001b[0mpoll\u001b[0m\u001b[0;34m(\u001b[0m\u001b[0mtimeout\u001b[0m\u001b[0;34m)\u001b[0m\u001b[0;34m\u001b[0m\u001b[0;34m\u001b[0m\u001b[0m\n\u001b[0m\u001b[1;32m    416\u001b[0m         \u001b[0;32mexcept\u001b[0m \u001b[0mInterruptedError\u001b[0m\u001b[0;34m:\u001b[0m\u001b[0;34m\u001b[0m\u001b[0;34m\u001b[0m\u001b[0m\n\u001b[1;32m    417\u001b[0m             \u001b[0;32mreturn\u001b[0m \u001b[0mready\u001b[0m\u001b[0;34m\u001b[0m\u001b[0;34m\u001b[0m\u001b[0m\n",
            "\u001b[0;31mKeyboardInterrupt\u001b[0m: "
          ]
        }
      ]
    },
    {
      "cell_type": "markdown",
      "metadata": {
        "id": "UVf_tc9LHILb"
      },
      "source": [
        "# Transfer Learning"
      ]
    },
    {
      "cell_type": "code",
      "metadata": {
        "id": "f2429EUhHAmT"
      },
      "source": [
        "import joblib\n",
        "from PIL import Image\n",
        "from torchvision.models import resnet18, resnet50, resnet152, inception_v3"
      ],
      "execution_count": null,
      "outputs": []
    },
    {
      "cell_type": "code",
      "metadata": {
        "id": "HqqS4LPUvtOT",
        "colab": {
          "base_uri": "https://localhost:8080/"
        },
        "outputId": "0e79292b-ad68-486e-aadf-fbacf9dad5ce"
      },
      "source": [
        "model = resnet50(pretrained=True)\n",
        "\n",
        "# Freeze model weights\n",
        "ct = 0\n",
        "for child in model.children():\n",
        "    ct += 1\n",
        "    if ct <= 7:\n",
        "        for param in child.parameters():\n",
        "            param.requires_grad = False\n",
        "\n",
        "# Add on classifier\n",
        "model.fc = nn.Sequential(\n",
        "    nn.Linear(model.fc.in_features, 256),\n",
        "    nn.ReLU(inplace=True),\n",
        "    nn.Linear(256, n_classes),\n",
        ")\n",
        "\n",
        "train_model(model, train_dl, valid_dl, lr=0.0001, epochs=20, wd=0.1, per_ep=1, amsgrad=True)"
      ],
      "execution_count": null,
      "outputs": [
        {
          "output_type": "stream",
          "text": [
            "Epoch: 1    Train Loss: 2.752468    valid Loss: 2.272213    valid Accuracy: 0.352632\n"
          ],
          "name": "stdout"
        },
        {
          "output_type": "stream",
          "text": [
            "Exception ignored in: <function _MultiProcessingDataLoaderIter.__del__ at 0x7f88e89cf680>\n",
            "Traceback (most recent call last):\n",
            "  File \"/usr/local/lib/python3.7/dist-packages/torch/utils/data/dataloader.py\", line 1324, in __del__\n",
            "    self._shutdown_workers()\n",
            "  File \"/usr/local/lib/python3.7/dist-packages/torch/utils/data/dataloader.py\", line 1316, in _shutdown_workers\n",
            "    if w.is_alive():\n",
            "  File \"/usr/lib/python3.7/multiprocessing/process.py\", line 151, in is_alive\n",
            "    assert self._parent_pid == os.getpid(), 'can only test a child process'\n",
            "AssertionError: can only test a child process\n",
            "Exception ignored in: <function _MultiProcessingDataLoaderIter.__del__ at 0x7f88e89cf680>\n",
            "Traceback (most recent call last):\n",
            "  File \"/usr/local/lib/python3.7/dist-packages/torch/utils/data/dataloader.py\", line 1324, in __del__\n",
            "    self._shutdown_workers()\n",
            "  File \"/usr/local/lib/python3.7/dist-packages/torch/utils/data/dataloader.py\", line 1316, in _shutdown_workers\n",
            "    if w.is_alive():\n",
            "  File \"/usr/lib/python3.7/multiprocessing/process.py\", line 151, in is_alive\n",
            "    assert self._parent_pid == os.getpid(), 'can only test a child process'\n",
            "AssertionError: can only test a child process\n",
            "Exception ignored in: <function _MultiProcessingDataLoaderIter.__del__ at 0x7f88e89cf680>\n",
            "Traceback (most recent call last):\n",
            "  File \"/usr/local/lib/python3.7/dist-packages/torch/utils/data/dataloader.py\", line 1324, in __del__\n",
            "    self._shutdown_workers()\n",
            "  File \"/usr/local/lib/python3.7/dist-packages/torch/utils/data/dataloader.py\", line 1316, in _shutdown_workers\n",
            "    if w.is_alive():\n",
            "  File \"/usr/lib/python3.7/multiprocessing/process.py\", line 151, in is_alive\n",
            "    assert self._parent_pid == os.getpid(), 'can only test a child process'\n",
            "AssertionError: can only test a child process\n",
            "Exception ignored in: <function _MultiProcessingDataLoaderIter.__del__ at 0x7f88e89cf680>\n",
            "Traceback (most recent call last):\n",
            "  File \"/usr/local/lib/python3.7/dist-packages/torch/utils/data/dataloader.py\", line 1324, in __del__\n",
            "    self._shutdown_workers()\n",
            "  File \"/usr/local/lib/python3.7/dist-packages/torch/utils/data/dataloader.py\", line 1316, in _shutdown_workers\n",
            "    if w.is_alive():\n",
            "  File \"/usr/lib/python3.7/multiprocessing/process.py\", line 151, in is_alive\n",
            "    assert self._parent_pid == os.getpid(), 'can only test a child process'\n",
            "AssertionError: can only test a child process\n"
          ],
          "name": "stderr"
        },
        {
          "output_type": "stream",
          "text": [
            "Epoch: 2    Train Loss: 1.895255    valid Loss: 1.662465    valid Accuracy: 0.584211\n",
            "Epoch: 3    Train Loss: 1.264715    valid Loss: 1.18335    valid Accuracy: 0.731579\n",
            "Epoch: 4    Train Loss: 0.856519    valid Loss: 1.015849    valid Accuracy: 0.742105\n"
          ],
          "name": "stdout"
        },
        {
          "output_type": "stream",
          "text": [
            "Exception ignored in: <function _MultiProcessingDataLoaderIter.__del__ at 0x7f88e89cf680>\n",
            "Traceback (most recent call last):\n",
            "  File \"/usr/local/lib/python3.7/dist-packages/torch/utils/data/dataloader.py\", line 1324, in __del__\n",
            "    self._shutdown_workers()\n",
            "Exception ignored in: <function _MultiProcessingDataLoaderIter.__del__ at 0x7f88e89cf680>\n",
            "Traceback (most recent call last):\n",
            "  File \"/usr/local/lib/python3.7/dist-packages/torch/utils/data/dataloader.py\", line 1316, in _shutdown_workers\n",
            "  File \"/usr/local/lib/python3.7/dist-packages/torch/utils/data/dataloader.py\", line 1324, in __del__\n",
            "    if w.is_alive():\n",
            "  File \"/usr/lib/python3.7/multiprocessing/process.py\", line 151, in is_alive\n",
            "    self._shutdown_workers()\n",
            "    assert self._parent_pid == os.getpid(), 'can only test a child process'\n",
            "  File \"/usr/local/lib/python3.7/dist-packages/torch/utils/data/dataloader.py\", line 1316, in _shutdown_workers\n",
            "Exception ignored in: <function _MultiProcessingDataLoaderIter.__del__ at 0x7f88e89cf680>\n",
            "AssertionError: can only test a child process\n",
            "    if w.is_alive():\n",
            "  File \"/usr/lib/python3.7/multiprocessing/process.py\", line 151, in is_alive\n",
            "    assert self._parent_pid == os.getpid(), 'can only test a child process'\n",
            "AssertionError: can only test a child process\n",
            "Traceback (most recent call last):\n",
            "  File \"/usr/local/lib/python3.7/dist-packages/torch/utils/data/dataloader.py\", line 1324, in __del__\n",
            "    self._shutdown_workers()\n",
            "  File \"/usr/local/lib/python3.7/dist-packages/torch/utils/data/dataloader.py\", line 1316, in _shutdown_workers\n",
            "    if w.is_alive():\n",
            "  File \"/usr/lib/python3.7/multiprocessing/process.py\", line 151, in is_alive\n",
            "    assert self._parent_pid == os.getpid(), 'can only test a child process'\n",
            "AssertionError: can only test a child process\n",
            "Exception ignored in: <function _MultiProcessingDataLoaderIter.__del__ at 0x7f88e89cf680>\n",
            "Exception ignored in: <function _MultiProcessingDataLoaderIter.__del__ at 0x7f88e89cf680>\n",
            "Traceback (most recent call last):\n",
            "Traceback (most recent call last):\n",
            "  File \"/usr/local/lib/python3.7/dist-packages/torch/utils/data/dataloader.py\", line 1324, in __del__\n",
            "  File \"/usr/local/lib/python3.7/dist-packages/torch/utils/data/dataloader.py\", line 1324, in __del__\n",
            "    self._shutdown_workers()\n",
            "    self._shutdown_workers()\n",
            "  File \"/usr/local/lib/python3.7/dist-packages/torch/utils/data/dataloader.py\", line 1316, in _shutdown_workers\n",
            "  File \"/usr/local/lib/python3.7/dist-packages/torch/utils/data/dataloader.py\", line 1316, in _shutdown_workers\n",
            "    if w.is_alive():\n",
            "    if w.is_alive():\n",
            "  File \"/usr/lib/python3.7/multiprocessing/process.py\", line 151, in is_alive\n",
            "  File \"/usr/lib/python3.7/multiprocessing/process.py\", line 151, in is_alive\n",
            "    assert self._parent_pid == os.getpid(), 'can only test a child process'\n",
            "    assert self._parent_pid == os.getpid(), 'can only test a child process'\n",
            "AssertionError: can only test a child process\n",
            "AssertionError: can only test a child process\n",
            "Exception ignored in: <function _MultiProcessingDataLoaderIter.__del__ at 0x7f88e89cf680>\n",
            "Exception ignored in: <function _MultiProcessingDataLoaderIter.__del__ at 0x7f88e89cf680>\n",
            "Traceback (most recent call last):\n",
            "Exception ignored in: <function _MultiProcessingDataLoaderIter.__del__ at 0x7f88e89cf680>\n",
            "Exception ignored in: <function _MultiProcessingDataLoaderIter.__del__ at 0x7f88e89cf680>\n",
            "Traceback (most recent call last):\n",
            "  File \"/usr/local/lib/python3.7/dist-packages/torch/utils/data/dataloader.py\", line 1324, in __del__\n",
            "Exception ignored in: <function _MultiProcessingDataLoaderIter.__del__ at 0x7f88e89cf680>\n",
            "Exception ignored in: <function _MultiProcessingDataLoaderIter.__del__ at 0x7f88e89cf680>\n",
            "    self._shutdown_workers()\n",
            "  File \"/usr/local/lib/python3.7/dist-packages/torch/utils/data/dataloader.py\", line 1324, in __del__\n",
            "Traceback (most recent call last):\n",
            "Traceback (most recent call last):\n",
            "  File \"/usr/local/lib/python3.7/dist-packages/torch/utils/data/dataloader.py\", line 1316, in _shutdown_workers\n",
            "Traceback (most recent call last):\n",
            "    self._shutdown_workers()\n",
            "  File \"/usr/local/lib/python3.7/dist-packages/torch/utils/data/dataloader.py\", line 1324, in __del__\n",
            "    if w.is_alive():\n",
            "    self._shutdown_workers()\n",
            "  File \"/usr/local/lib/python3.7/dist-packages/torch/utils/data/dataloader.py\", line 1324, in __del__\n",
            "Traceback (most recent call last):\n",
            "    self._shutdown_workers()\n",
            "  File \"/usr/local/lib/python3.7/dist-packages/torch/utils/data/dataloader.py\", line 1324, in __del__\n",
            "  File \"/usr/lib/python3.7/multiprocessing/process.py\", line 151, in is_alive\n",
            "  File \"/usr/local/lib/python3.7/dist-packages/torch/utils/data/dataloader.py\", line 1316, in _shutdown_workers\n",
            "  File \"/usr/local/lib/python3.7/dist-packages/torch/utils/data/dataloader.py\", line 1316, in _shutdown_workers\n",
            "  File \"/usr/local/lib/python3.7/dist-packages/torch/utils/data/dataloader.py\", line 1316, in _shutdown_workers\n",
            "  File \"/usr/local/lib/python3.7/dist-packages/torch/utils/data/dataloader.py\", line 1324, in __del__\n",
            "    self._shutdown_workers()\n",
            "    assert self._parent_pid == os.getpid(), 'can only test a child process'\n",
            "    if w.is_alive():\n",
            "    if w.is_alive():\n",
            "    self._shutdown_workers()\n",
            "    if w.is_alive():\n",
            "  File \"/usr/local/lib/python3.7/dist-packages/torch/utils/data/dataloader.py\", line 1316, in _shutdown_workers\n",
            "  File \"/usr/lib/python3.7/multiprocessing/process.py\", line 151, in is_alive\n",
            "  File \"/usr/local/lib/python3.7/dist-packages/torch/utils/data/dataloader.py\", line 1316, in _shutdown_workers\n",
            "  File \"/usr/lib/python3.7/multiprocessing/process.py\", line 151, in is_alive\n",
            "  File \"/usr/lib/python3.7/multiprocessing/process.py\", line 151, in is_alive\n",
            "AssertionError: can only test a child process\n",
            "    assert self._parent_pid == os.getpid(), 'can only test a child process'\n",
            "    assert self._parent_pid == os.getpid(), 'can only test a child process'\n",
            "    if w.is_alive():\n",
            "    if w.is_alive():\n",
            "    assert self._parent_pid == os.getpid(), 'can only test a child process'\n",
            "AssertionError: can only test a child process\n",
            "AssertionError: can only test a child process\n",
            "  File \"/usr/lib/python3.7/multiprocessing/process.py\", line 151, in is_alive\n",
            "  File \"/usr/lib/python3.7/multiprocessing/process.py\", line 151, in is_alive\n",
            "AssertionError: can only test a child process\n",
            "    assert self._parent_pid == os.getpid(), 'can only test a child process'\n",
            "    assert self._parent_pid == os.getpid(), 'can only test a child process'\n",
            "AssertionError: can only test a child process\n",
            "AssertionError: can only test a child process\n"
          ],
          "name": "stderr"
        },
        {
          "output_type": "stream",
          "text": [
            "Epoch: 5    Train Loss: 0.623871    valid Loss: 0.935635    valid Accuracy: 0.778947\n",
            "Epoch: 6    Train Loss: 0.445141    valid Loss: 0.927308    valid Accuracy: 0.763158\n",
            "Epoch: 7    Train Loss: 0.311548    valid Loss: 0.927857    valid Accuracy: 0.726316\n",
            "Epoch: 8    Train Loss: 0.238881    valid Loss: 0.910158    valid Accuracy: 0.721053\n",
            "Epoch: 9    Train Loss: 0.192605    valid Loss: 0.979999    valid Accuracy: 0.721053\n",
            "Epoch: 10    Train Loss: 0.138076    valid Loss: 1.003296    valid Accuracy: 0.736842\n",
            "Epoch: 11    Train Loss: 0.109722    valid Loss: 1.03095    valid Accuracy: 0.784211\n",
            "Epoch: 12    Train Loss: 0.084689    valid Loss: 0.838972    valid Accuracy: 0.763158\n",
            "Epoch: 13    Train Loss: 0.072105    valid Loss: 1.019912    valid Accuracy: 0.768421\n",
            "Epoch: 14    Train Loss: 0.067835    valid Loss: 1.025713    valid Accuracy: 0.757895\n",
            "Epoch: 15    Train Loss: 0.075778    valid Loss: 1.009659    valid Accuracy: 0.763158\n",
            "Epoch: 16    Train Loss: 0.053545    valid Loss: 1.006976    valid Accuracy: 0.742105\n",
            "Epoch: 17    Train Loss: 0.03979    valid Loss: 1.146162    valid Accuracy: 0.757895\n",
            "Epoch: 18    Train Loss: 0.045699    valid Loss: 1.059589    valid Accuracy: 0.747368\n",
            "Epoch: 19    Train Loss: 0.046379    valid Loss: 1.150172    valid Accuracy: 0.757895\n",
            "Epoch: 20    Train Loss: 0.042342    valid Loss: 1.178287    valid Accuracy: 0.721053\n"
          ],
          "name": "stdout"
        }
      ]
    },
    {
      "cell_type": "code",
      "metadata": {
        "colab": {
          "base_uri": "https://localhost:8080/"
        },
        "id": "hVo9KmjCCuFu",
        "outputId": "d79bad9f-4b05-4881-c0e0-cfb0ac3588e1"
      },
      "source": [
        "sum(1 for child in model.children())"
      ],
      "execution_count": null,
      "outputs": [
        {
          "output_type": "execute_result",
          "data": {
            "text/plain": [
              "10"
            ]
          },
          "metadata": {
            "tags": []
          },
          "execution_count": 29
        }
      ]
    },
    {
      "cell_type": "code",
      "metadata": {
        "id": "IdXvpiqWFTxH"
      },
      "source": [
        "torch.save(model, 'resnet.model')"
      ],
      "execution_count": null,
      "outputs": []
    },
    {
      "cell_type": "code",
      "metadata": {
        "colab": {
          "base_uri": "https://localhost:8080/",
          "height": 579
        },
        "id": "il8ZlwCMZ8sh",
        "outputId": "9cb0a4bf-5061-4aa9-f28f-00e41d0cf14f"
      },
      "source": [
        "model = inception_v3(pretrained=True)\n",
        "\n",
        "# Freeze model weights\n",
        "ct = 0\n",
        "for child in model.children():\n",
        "    ct += 1\n",
        "    if ct <= 8:\n",
        "        for param in child.parameters():\n",
        "            param.requires_grad = False\n",
        "\n",
        "# Add on classifier\n",
        "model.fc = nn.Sequential(\n",
        "    nn.Linear(model.fc.in_features, 256),\n",
        "    nn.ReLU(inplace=True),\n",
        "    nn.Linear(256, n_classes),\n",
        ")\n",
        "model.aux_logits = False\n",
        "\n",
        "# model\n",
        "model = train_model(model, train_dl, valid_dl, lr=0.0001, epochs=20, wd=0.1, per_ep=1, amsgrad=True, save_loc='inception.model')"
      ],
      "execution_count": null,
      "outputs": [
        {
          "output_type": "stream",
          "text": [
            "Epoch: 1    Train Loss: 2.908843    valid Loss: 2.631812    valid Accuracy: 0.236842\n",
            "Epoch: 2    Train Loss: 2.32756    valid Loss: 1.935455    valid Accuracy: 0.457895\n",
            "Epoch: 3    Train Loss: 1.607804    valid Loss: 1.344579    valid Accuracy: 0.605263\n",
            "Epoch: 4    Train Loss: 1.027777    valid Loss: 0.996942    valid Accuracy: 0.710526\n",
            "Epoch: 5    Train Loss: 0.659325    valid Loss: 0.95721    valid Accuracy: 0.768421\n",
            "Epoch: 6    Train Loss: 0.477533    valid Loss: 0.932275    valid Accuracy: 0.757895\n",
            "Epoch: 7    Train Loss: 0.330576    valid Loss: 0.910395    valid Accuracy: 0.763158\n",
            "Epoch: 8    Train Loss: 0.240074    valid Loss: 0.959491    valid Accuracy: 0.710526\n",
            "Epoch: 9    Train Loss: 0.197411    valid Loss: 0.957964    valid Accuracy: 0.757895\n",
            "Epoch: 10    Train Loss: 0.136901    valid Loss: 0.928583    valid Accuracy: 0.752632\n",
            "Epoch: 11    Train Loss: 0.094429    valid Loss: 0.921868    valid Accuracy: 0.773684\n",
            "Epoch: 12    Train Loss: 0.087916    valid Loss: 1.02427    valid Accuracy: 0.736842\n"
          ],
          "name": "stdout"
        },
        {
          "output_type": "error",
          "ename": "KeyboardInterrupt",
          "evalue": "ignored",
          "traceback": [
            "\u001b[0;31m---------------------------------------------------------------------------\u001b[0m",
            "\u001b[0;31mKeyboardInterrupt\u001b[0m                         Traceback (most recent call last)",
            "\u001b[0;32m<ipython-input-59-53916e6bf4da>\u001b[0m in \u001b[0;36m<module>\u001b[0;34m()\u001b[0m\n\u001b[1;32m     18\u001b[0m \u001b[0;34m\u001b[0m\u001b[0m\n\u001b[1;32m     19\u001b[0m \u001b[0;31m# model\u001b[0m\u001b[0;34m\u001b[0m\u001b[0;34m\u001b[0m\u001b[0;34m\u001b[0m\u001b[0m\n\u001b[0;32m---> 20\u001b[0;31m \u001b[0mmodel\u001b[0m \u001b[0;34m=\u001b[0m \u001b[0mtrain_model\u001b[0m\u001b[0;34m(\u001b[0m\u001b[0mmodel\u001b[0m\u001b[0;34m,\u001b[0m \u001b[0mtrain_dl\u001b[0m\u001b[0;34m,\u001b[0m \u001b[0mvalid_dl\u001b[0m\u001b[0;34m,\u001b[0m \u001b[0mlr\u001b[0m\u001b[0;34m=\u001b[0m\u001b[0;36m0.0001\u001b[0m\u001b[0;34m,\u001b[0m \u001b[0mepochs\u001b[0m\u001b[0;34m=\u001b[0m\u001b[0;36m20\u001b[0m\u001b[0;34m,\u001b[0m \u001b[0mwd\u001b[0m\u001b[0;34m=\u001b[0m\u001b[0;36m0.1\u001b[0m\u001b[0;34m,\u001b[0m \u001b[0mper_ep\u001b[0m\u001b[0;34m=\u001b[0m\u001b[0;36m1\u001b[0m\u001b[0;34m,\u001b[0m \u001b[0mamsgrad\u001b[0m\u001b[0;34m=\u001b[0m\u001b[0;32mTrue\u001b[0m\u001b[0;34m,\u001b[0m \u001b[0msave_loc\u001b[0m\u001b[0;34m=\u001b[0m\u001b[0;34m'inception.model'\u001b[0m\u001b[0;34m)\u001b[0m\u001b[0;34m\u001b[0m\u001b[0;34m\u001b[0m\u001b[0m\n\u001b[0m",
            "\u001b[0;32m<ipython-input-58-1acea92eb510>\u001b[0m in \u001b[0;36mtrain_model\u001b[0;34m(model, train_dl, test_dl, lr, epochs, wd, per_ep, amsgrad, early_stopping, n_epochs_stop, criterion, save_loc)\u001b[0m\n\u001b[1;32m     24\u001b[0m             \u001b[0mout\u001b[0m \u001b[0;34m=\u001b[0m \u001b[0mmodel\u001b[0m\u001b[0;34m(\u001b[0m\u001b[0mimgs\u001b[0m\u001b[0;34m)\u001b[0m\u001b[0;34m\u001b[0m\u001b[0;34m\u001b[0m\u001b[0m\n\u001b[1;32m     25\u001b[0m             \u001b[0mloss\u001b[0m \u001b[0;34m=\u001b[0m \u001b[0mcriterion\u001b[0m\u001b[0;34m(\u001b[0m\u001b[0mout\u001b[0m\u001b[0;34m,\u001b[0m \u001b[0mlabels\u001b[0m\u001b[0;34m)\u001b[0m\u001b[0;34m\u001b[0m\u001b[0;34m\u001b[0m\u001b[0m\n\u001b[0;32m---> 26\u001b[0;31m             \u001b[0mloss\u001b[0m\u001b[0;34m.\u001b[0m\u001b[0mbackward\u001b[0m\u001b[0;34m(\u001b[0m\u001b[0;34m)\u001b[0m\u001b[0;34m\u001b[0m\u001b[0;34m\u001b[0m\u001b[0m\n\u001b[0m\u001b[1;32m     27\u001b[0m             \u001b[0moptimizer\u001b[0m\u001b[0;34m.\u001b[0m\u001b[0mstep\u001b[0m\u001b[0;34m(\u001b[0m\u001b[0;34m)\u001b[0m\u001b[0;34m\u001b[0m\u001b[0;34m\u001b[0m\u001b[0m\n\u001b[1;32m     28\u001b[0m             \u001b[0mrunning_loss\u001b[0m \u001b[0;34m+=\u001b[0m \u001b[0mloss\u001b[0m\u001b[0;34m.\u001b[0m\u001b[0mitem\u001b[0m\u001b[0;34m(\u001b[0m\u001b[0;34m)\u001b[0m\u001b[0;34m\u001b[0m\u001b[0;34m\u001b[0m\u001b[0m\n",
            "\u001b[0;32m/usr/local/lib/python3.7/dist-packages/torch/tensor.py\u001b[0m in \u001b[0;36mbackward\u001b[0;34m(self, gradient, retain_graph, create_graph, inputs)\u001b[0m\n\u001b[1;32m    243\u001b[0m                 \u001b[0mcreate_graph\u001b[0m\u001b[0;34m=\u001b[0m\u001b[0mcreate_graph\u001b[0m\u001b[0;34m,\u001b[0m\u001b[0;34m\u001b[0m\u001b[0;34m\u001b[0m\u001b[0m\n\u001b[1;32m    244\u001b[0m                 inputs=inputs)\n\u001b[0;32m--> 245\u001b[0;31m         \u001b[0mtorch\u001b[0m\u001b[0;34m.\u001b[0m\u001b[0mautograd\u001b[0m\u001b[0;34m.\u001b[0m\u001b[0mbackward\u001b[0m\u001b[0;34m(\u001b[0m\u001b[0mself\u001b[0m\u001b[0;34m,\u001b[0m \u001b[0mgradient\u001b[0m\u001b[0;34m,\u001b[0m \u001b[0mretain_graph\u001b[0m\u001b[0;34m,\u001b[0m \u001b[0mcreate_graph\u001b[0m\u001b[0;34m,\u001b[0m \u001b[0minputs\u001b[0m\u001b[0;34m=\u001b[0m\u001b[0minputs\u001b[0m\u001b[0;34m)\u001b[0m\u001b[0;34m\u001b[0m\u001b[0;34m\u001b[0m\u001b[0m\n\u001b[0m\u001b[1;32m    246\u001b[0m \u001b[0;34m\u001b[0m\u001b[0m\n\u001b[1;32m    247\u001b[0m     \u001b[0;32mdef\u001b[0m \u001b[0mregister_hook\u001b[0m\u001b[0;34m(\u001b[0m\u001b[0mself\u001b[0m\u001b[0;34m,\u001b[0m \u001b[0mhook\u001b[0m\u001b[0;34m)\u001b[0m\u001b[0;34m:\u001b[0m\u001b[0;34m\u001b[0m\u001b[0;34m\u001b[0m\u001b[0m\n",
            "\u001b[0;32m/usr/local/lib/python3.7/dist-packages/torch/autograd/__init__.py\u001b[0m in \u001b[0;36mbackward\u001b[0;34m(tensors, grad_tensors, retain_graph, create_graph, grad_variables, inputs)\u001b[0m\n\u001b[1;32m    145\u001b[0m     Variable._execution_engine.run_backward(\n\u001b[1;32m    146\u001b[0m         \u001b[0mtensors\u001b[0m\u001b[0;34m,\u001b[0m \u001b[0mgrad_tensors_\u001b[0m\u001b[0;34m,\u001b[0m \u001b[0mretain_graph\u001b[0m\u001b[0;34m,\u001b[0m \u001b[0mcreate_graph\u001b[0m\u001b[0;34m,\u001b[0m \u001b[0minputs\u001b[0m\u001b[0;34m,\u001b[0m\u001b[0;34m\u001b[0m\u001b[0;34m\u001b[0m\u001b[0m\n\u001b[0;32m--> 147\u001b[0;31m         allow_unreachable=True, accumulate_grad=True)  # allow_unreachable flag\n\u001b[0m\u001b[1;32m    148\u001b[0m \u001b[0;34m\u001b[0m\u001b[0m\n\u001b[1;32m    149\u001b[0m \u001b[0;34m\u001b[0m\u001b[0m\n",
            "\u001b[0;31mKeyboardInterrupt\u001b[0m: "
          ]
        }
      ]
    },
    {
      "cell_type": "code",
      "metadata": {
        "id": "trm_o_eVaIbg"
      },
      "source": [
        "torch.save(model.cpu(), 'inception.model')"
      ],
      "execution_count": null,
      "outputs": []
    },
    {
      "cell_type": "markdown",
      "metadata": {
        "id": "lcsk-OyfJj_i"
      },
      "source": [
        "# Save for Deployment"
      ]
    },
    {
      "cell_type": "code",
      "metadata": {
        "id": "nWq6188AKJ42"
      },
      "source": [
        "models_loc = '/content/drive/MyDrive/Cicerone/models/'"
      ],
      "execution_count": null,
      "outputs": []
    },
    {
      "cell_type": "code",
      "metadata": {
        "id": "DexPLVueCtdw"
      },
      "source": [
        "class Cicerone_Inception():\n",
        "    def __init__(self):\n",
        "        self.model = torch.load('inception.model').cpu()\n",
        "        self.classes = ['Al Alam Palace',\n",
        "                        'Al Sawadi Beach',\n",
        "                        'Arabian Oryx Sanctuary',\n",
        "                        'Ayn Athum, Salalah',\n",
        "                        'Bahla Fort',\n",
        "                        'Bait Al Baranda Museum',\n",
        "                        'Bait Al Zubair Museum',\n",
        "                        'Bandar Al Khairan Viewpoint',\n",
        "                        'Hawana Aqua Park',\n",
        "                        'Jebel Shams',\n",
        "                        'Jibreen Castle',\n",
        "                        'Khuriya Muriya Islands',\n",
        "                        'Musandam Oman',\n",
        "                        'Musandam Peninsula',\n",
        "                        'Mutrah Fort',\n",
        "                        'Nakhal Fort, Oman',\n",
        "                        'Nizwa Fort',\n",
        "                        'Royal Opera House Muscat',\n",
        "                        'Snake Gorge Canyon',\n",
        "                        'Sultan Qaboos Grand Mosque',\n",
        "                        'Telegraph Island',\n",
        "                        'The Museum of the Frankincense Land',\n",
        "                        'Wadi Ash Shab',\n",
        "                        'Wadi Darbat',\n",
        "                        'Wadi Dayqah Dam']\n",
        "\n",
        "    def predict_image_path(self, image_path):\n",
        "        from torchvision import transforms\n",
        "        from PIL import Image\n",
        "        import torch\n",
        "        image_size=(299,299)\n",
        "        tm = transforms.Compose([\n",
        "            transforms.Resize(image_size),\n",
        "            transforms.CenterCrop(image_size),\n",
        "            transforms.ToTensor(),\n",
        "            transforms.Normalize([0.485, 0.456, 0.406], [0.229, 0.224, 0.225])\n",
        "        ])\n",
        "\n",
        "        image = Image.open(image_path)\n",
        "\n",
        "        image = tm(image)\n",
        "        image = image.unsqueeze(0) \n",
        "\n",
        "        with torch.no_grad():\n",
        "            out = self.model(image.cpu())\n",
        "            index = out.numpy().argmax()\n",
        "        return self.classes[index]"
      ],
      "execution_count": null,
      "outputs": []
    },
    {
      "cell_type": "code",
      "metadata": {
        "id": "IeLnu1y2VZ0n",
        "colab": {
          "base_uri": "https://localhost:8080/"
        },
        "outputId": "a7e88aac-914d-448e-a7e4-0783472ca0e1"
      },
      "source": [
        "cc_model = Cicerone_Inception()\n",
        "joblib.dump(cc_model, models_loc+'cicerone_inception.model')"
      ],
      "execution_count": null,
      "outputs": [
        {
          "output_type": "execute_result",
          "data": {
            "text/plain": [
              "['/content/drive/MyDrive/Cicerone/models/cicerone_inception.model']"
            ]
          },
          "metadata": {
            "tags": []
          },
          "execution_count": 76
        }
      ]
    },
    {
      "cell_type": "code",
      "metadata": {
        "colab": {
          "base_uri": "https://localhost:8080/",
          "height": 37
        },
        "id": "Okgq3Nj_GhvX",
        "outputId": "a777ec67-8b44-46cd-8aeb-abb1632e7877"
      },
      "source": [
        "loaded_model = joblib.load(models_loc+'cicerone_inception.model')\n",
        "loaded_model.predict_image_path('/content/image.jpeg')"
      ],
      "execution_count": null,
      "outputs": [
        {
          "output_type": "execute_result",
          "data": {
            "application/vnd.google.colaboratory.intrinsic+json": {
              "type": "string"
            },
            "text/plain": [
              "'Sultan Qaboos Grand Mosque'"
            ]
          },
          "metadata": {
            "tags": []
          },
          "execution_count": 77
        }
      ]
    },
    {
      "cell_type": "code",
      "metadata": {
        "id": "XnUWHVKYGrnM"
      },
      "source": [
        "class Cicerone_Resnet():\n",
        "    def __init__(self):\n",
        "        self.model = torch.load('resnet.model').cpu()\n",
        "        self.classes = ['Al Alam Palace',\n",
        "                        'Al Sawadi Beach',\n",
        "                        'Arabian Oryx Sanctuary',\n",
        "                        'Ayn Athum, Salalah',\n",
        "                        'Bahla Fort',\n",
        "                        'Bait Al Baranda Museum',\n",
        "                        'Bait Al Zubair Museum',\n",
        "                        'Bandar Al Khairan Viewpoint',\n",
        "                        'Hawana Aqua Park',\n",
        "                        'Jebel Shams',\n",
        "                        'Jibreen Castle',\n",
        "                        'Khuriya Muriya Islands',\n",
        "                        'Musandam Oman',\n",
        "                        'Musandam Peninsula',\n",
        "                        'Mutrah Fort',\n",
        "                        'Nakhal Fort, Oman',\n",
        "                        'Nizwa Fort',\n",
        "                        'Royal Opera House Muscat',\n",
        "                        'Snake Gorge Canyon',\n",
        "                        'Sultan Qaboos Grand Mosque',\n",
        "                        'Telegraph Island',\n",
        "                        'The Museum of the Frankincense Land',\n",
        "                        'Wadi Ash Shab',\n",
        "                        'Wadi Darbat',\n",
        "                        'Wadi Dayqah Dam']\n",
        "\n",
        "    def predict_image_path(self, image_path):\n",
        "        from torchvision import transforms\n",
        "        from PIL import Image\n",
        "        import torch\n",
        "        image_size=(256,256)\n",
        "        tm = transforms.Compose([\n",
        "            transforms.Resize(image_size),\n",
        "            transforms.CenterCrop(image_size),\n",
        "            transforms.ToTensor(),\n",
        "            transforms.Normalize([0.485, 0.456, 0.406], [0.229, 0.224, 0.225])\n",
        "        ])\n",
        "\n",
        "        image = Image.open(image_path)\n",
        "\n",
        "        image = tm(image)\n",
        "        image = image.unsqueeze(0) \n",
        "\n",
        "        with torch.no_grad():\n",
        "            out = self.model(image.cpu())\n",
        "            index = out.numpy().argmax()\n",
        "        return self.classes[index]"
      ],
      "execution_count": null,
      "outputs": []
    },
    {
      "cell_type": "code",
      "metadata": {
        "id": "lfVu1e_aCfkh",
        "colab": {
          "base_uri": "https://localhost:8080/",
          "height": 181
        },
        "outputId": "619fc2c4-6467-48b3-dcad-94f4f119eb43"
      },
      "source": [
        "cc_model = Cicerone_Resnet()\n",
        "joblib.dump(cc_model, models_loc+'cicerone_resnet.model')"
      ],
      "execution_count": null,
      "outputs": [
        {
          "output_type": "error",
          "ename": "NameError",
          "evalue": "ignored",
          "traceback": [
            "\u001b[0;31m---------------------------------------------------------------------------\u001b[0m",
            "\u001b[0;31mNameError\u001b[0m                                 Traceback (most recent call last)",
            "\u001b[0;32m<ipython-input-71-3c5c486855c8>\u001b[0m in \u001b[0;36m<module>\u001b[0;34m()\u001b[0m\n\u001b[0;32m----> 1\u001b[0;31m \u001b[0mcc_model\u001b[0m \u001b[0;34m=\u001b[0m \u001b[0mCicerone_Resnet\u001b[0m\u001b[0;34m(\u001b[0m\u001b[0;34m)\u001b[0m\u001b[0;34m\u001b[0m\u001b[0;34m\u001b[0m\u001b[0m\n\u001b[0m\u001b[1;32m      2\u001b[0m \u001b[0mjoblib\u001b[0m\u001b[0;34m.\u001b[0m\u001b[0mdump\u001b[0m\u001b[0;34m(\u001b[0m\u001b[0mcc_model\u001b[0m\u001b[0;34m,\u001b[0m \u001b[0mmodels_loc\u001b[0m\u001b[0;34m+\u001b[0m\u001b[0;34m'cicerone_resnet.model'\u001b[0m\u001b[0;34m)\u001b[0m\u001b[0;34m\u001b[0m\u001b[0;34m\u001b[0m\u001b[0m\n",
            "\u001b[0;31mNameError\u001b[0m: name 'Cicerone_Resnet' is not defined"
          ]
        }
      ]
    },
    {
      "cell_type": "code",
      "metadata": {
        "id": "ZoWwGaZuChD4"
      },
      "source": [
        "loaded_model = joblib.load(models_loc+'cicerone_resnet.model')\n",
        "loaded_model.predict_image_path('/content/image.jpeg')"
      ],
      "execution_count": null,
      "outputs": []
    },
    {
      "cell_type": "code",
      "metadata": {
        "id": "TDLqs_3xDF-W"
      },
      "source": [
        ""
      ],
      "execution_count": null,
      "outputs": []
    }
  ]
}